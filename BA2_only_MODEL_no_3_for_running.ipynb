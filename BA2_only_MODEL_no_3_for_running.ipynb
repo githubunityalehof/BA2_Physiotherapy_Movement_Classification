{
 "cells": [
  {
   "cell_type": "code",
   "execution_count": 1,
   "id": "f331e179",
   "metadata": {},
   "outputs": [],
   "source": [
    "import cv2\n",
    "import math\n",
    "import matplotlib.pyplot as plt\n",
    "#%matplotlib inline\n",
    "import pandas as pd\n",
    "import numpy as np\n",
    "from keras.preprocessing import image\n",
    "import numpy as np\n",
    "from keras.utils import np_utils\n",
    "from skimage.transform import resize\n",
    "from PIL import Image\n",
    "import re\n",
    "import os\n",
    "import random\n",
    "import shutil\n",
    "import keras\n",
    "from keras.models import load_model"
   ]
  },
  {
   "cell_type": "code",
   "execution_count": 2,
   "id": "c3c4757e",
   "metadata": {},
   "outputs": [],
   "source": [
    "###### SOME KEY PARAMETERS FOR SAMPLING RATES #########\n",
    "AMOUNT_TRAINING = 89\n",
    "AMOUNT_TEST = 38\n",
    "RANDOM_SEED = 5\n",
    "DOUBLE_TRAINING = AMOUNT_TRAINING * 2\n",
    "DOUBLE_TEST = AMOUNT_TEST * 2\n",
    "\n",
    "# 1 for 10 samples, 2 for 20 samples, 3 for 30 samples ...\n",
    "SAMPLING_RATE = 4\n",
    "SAMPLING_REPRESENTATION = SAMPLING_RATE * 10\n",
    "VALIDATION_VALUES_PARAMETER = 0.8\n",
    "\n",
    "\n",
    "###### IMAGE SIZE in pixels ##################\n",
    "IMAGE_HEIGHT = 63;\n",
    "IMAGE_WIDTH = 63;"
   ]
  },
  {
   "cell_type": "code",
   "execution_count": 3,
   "id": "a01da435",
   "metadata": {},
   "outputs": [
    {
     "data": {
      "text/html": [
       "<div>\n",
       "<style scoped>\n",
       "    .dataframe tbody tr th:only-of-type {\n",
       "        vertical-align: middle;\n",
       "    }\n",
       "\n",
       "    .dataframe tbody tr th {\n",
       "        vertical-align: top;\n",
       "    }\n",
       "\n",
       "    .dataframe thead th {\n",
       "        text-align: right;\n",
       "    }\n",
       "</style>\n",
       "<table border=\"1\" class=\"dataframe\">\n",
       "  <thead>\n",
       "    <tr style=\"text-align: right;\">\n",
       "      <th></th>\n",
       "      <th>video_name</th>\n",
       "    </tr>\n",
       "    <tr>\n",
       "      <th>labels</th>\n",
       "      <th></th>\n",
       "    </tr>\n",
       "  </thead>\n",
       "  <tbody>\n",
       "    <tr>\n",
       "      <th>0</th>\n",
       "      <td>127</td>\n",
       "    </tr>\n",
       "    <tr>\n",
       "      <th>1</th>\n",
       "      <td>127</td>\n",
       "    </tr>\n",
       "    <tr>\n",
       "      <th>file_name_incorrect</th>\n",
       "      <td>3</td>\n",
       "    </tr>\n",
       "  </tbody>\n",
       "</table>\n",
       "</div>"
      ],
      "text/plain": [
       "                     video_name\n",
       "labels                         \n",
       "0                           127\n",
       "1                           127\n",
       "file_name_incorrect           3"
      ]
     },
     "execution_count": 3,
     "metadata": {},
     "output_type": "execute_result"
    }
   ],
   "source": [
    "# Loading video names in a column and labels:\n",
    "os.getcwd()\n",
    "path = '/home/alehof/Sit_to_stand'\n",
    "\n",
    "videos = os.listdir(path)\n",
    "\n",
    "label = []\n",
    "for i in videos:\n",
    "    if \"incorr\" in i:\n",
    "        label.append(0)\n",
    "    elif \"corr\" in i:\n",
    "        label.append(1)\n",
    "    else:\n",
    "        label.append(\"file_name_incorrect\")\n",
    "\n",
    "videos = pd.DataFrame(videos, label).reset_index()\n",
    "videos.columns = [\"labels\", \"video_name\"]\n",
    "\n",
    "videos.groupby('labels').count()"
   ]
  },
  {
   "cell_type": "code",
   "execution_count": 4,
   "id": "41e1183c",
   "metadata": {},
   "outputs": [
    {
     "name": "stdout",
     "output_type": "stream",
     "text": [
      "        video_name\n",
      "labels            \n",
      "0               89\n",
      "1               89\n",
      "        video_name\n",
      "labels            \n",
      "0               38\n",
      "1               38\n"
     ]
    }
   ],
   "source": [
    "# Splitting the videos into Train and Test Videos:\n",
    "incorrect=videos.loc[videos[\"labels\"]==0,]\n",
    "correct=videos.loc[videos[\"labels\"]==1,]\n",
    "\n",
    "incorrect_range=np.arange(len(incorrect))\n",
    "correct_range=np.arange(len(correct))\n",
    "np.random.seed(RANDOM_SEED)\n",
    "np.random.shuffle(incorrect_range)\n",
    "np.random.shuffle(correct_range)\n",
    "\n",
    "correct=correct.iloc[correct_range,]\n",
    "incorrect=incorrect.iloc[incorrect_range,]\n",
    "\n",
    "train_correct=correct.iloc[:AMOUNT_TRAINING,]\n",
    "train_incorrect=incorrect.iloc[:AMOUNT_TRAINING,]\n",
    "test_correct=correct.iloc[AMOUNT_TRAINING:,]\n",
    "test_incorrect=incorrect.iloc[AMOUNT_TRAINING:,]\n",
    "\n",
    "train_set=train_correct.append(train_incorrect)\n",
    "test_set=test_correct.append(test_incorrect)\n",
    "\n",
    "train_set=train_set.reset_index().drop(\"index\",axis=1)\n",
    "test_set=test_set.reset_index().drop(\"index\",axis=1)\n",
    "\n",
    "print(train_set.groupby('labels').count())\n",
    "print(test_set.groupby('labels').count())"
   ]
  },
  {
   "cell_type": "code",
   "execution_count": 5,
   "id": "22fed37b",
   "metadata": {},
   "outputs": [
    {
     "name": "stdout",
     "output_type": "stream",
     "text": [
      "Folder Already Created\n",
      "Folder Already Created\n",
      "Folder Already Created\n"
     ]
    }
   ],
   "source": [
    "exercises_dir_path = path\n",
    "train_videos_dir = os.path.join(path, \"Train_Videos\")\n",
    "test_videos_dir = os.path.join(path, \"Test_Videos\")\n",
    "try:\n",
    "    os.mkdir(exercises_dir_path)\n",
    "except FileExistsError as ae:\n",
    "    print(\"Folder Already Created\")\n",
    "\n",
    "try:\n",
    "    os.mkdir(train_videos_dir)\n",
    "except FileExistsError as ae:\n",
    "    print(\"Folder Already Created\")\n",
    "\n",
    "try:\n",
    "    os.mkdir(test_videos_dir)\n",
    "except FileExistsError as ae:\n",
    "    print(\"Folder Already Created\")"
   ]
  },
  {
   "cell_type": "code",
   "execution_count": 6,
   "id": "543d8a82",
   "metadata": {},
   "outputs": [
    {
     "name": "stdout",
     "output_type": "stream",
     "text": [
      "File Already Created\n",
      "File Already Created\n",
      "File Already Created\n",
      "File Already Created\n",
      "File Already Created\n",
      "File Already Created\n",
      "File Already Created\n",
      "File Already Created\n",
      "File Already Created\n",
      "File Already Created\n",
      "File Already Created\n",
      "File Already Created\n",
      "File Already Created\n",
      "File Already Created\n",
      "File Already Created\n",
      "File Already Created\n",
      "File Already Created\n",
      "File Already Created\n",
      "File Already Created\n",
      "File Already Created\n",
      "File Already Created\n",
      "File Already Created\n",
      "File Already Created\n",
      "File Already Created\n",
      "File Already Created\n",
      "File Already Created\n",
      "File Already Created\n",
      "File Already Created\n",
      "File Already Created\n",
      "File Already Created\n",
      "File Already Created\n",
      "File Already Created\n",
      "File Already Created\n",
      "File Already Created\n",
      "File Already Created\n",
      "File Already Created\n",
      "File Already Created\n",
      "File Already Created\n",
      "File Already Created\n",
      "File Already Created\n",
      "File Already Created\n",
      "File Already Created\n",
      "File Already Created\n",
      "File Already Created\n",
      "File Already Created\n",
      "File Already Created\n",
      "File Already Created\n",
      "File Already Created\n",
      "File Already Created\n",
      "File Already Created\n",
      "File Already Created\n",
      "File Already Created\n",
      "File Already Created\n",
      "File Already Created\n",
      "File Already Created\n",
      "File Already Created\n",
      "File Already Created\n",
      "File Already Created\n",
      "File Already Created\n",
      "File Already Created\n",
      "File Already Created\n",
      "File Already Created\n",
      "File Already Created\n",
      "File Already Created\n",
      "File Already Created\n",
      "File Already Created\n",
      "File Already Created\n",
      "File Already Created\n",
      "File Already Created\n",
      "File Already Created\n",
      "File Already Created\n",
      "File Already Created\n",
      "File Already Created\n",
      "File Already Created\n",
      "File Already Created\n",
      "File Already Created\n",
      "File Already Created\n",
      "File Already Created\n",
      "File Already Created\n",
      "File Already Created\n",
      "File Already Created\n",
      "File Already Created\n",
      "File Already Created\n",
      "File Already Created\n",
      "File Already Created\n",
      "File Already Created\n",
      "File Already Created\n",
      "File Already Created\n",
      "File Already Created\n",
      "File Already Created\n",
      "File Already Created\n",
      "File Already Created\n",
      "File Already Created\n",
      "File Already Created\n",
      "File Already Created\n",
      "File Already Created\n",
      "File Already Created\n",
      "File Already Created\n",
      "File Already Created\n",
      "File Already Created\n",
      "File Already Created\n",
      "File Already Created\n",
      "File Already Created\n",
      "File Already Created\n",
      "File Already Created\n",
      "File Already Created\n",
      "File Already Created\n",
      "File Already Created\n",
      "File Already Created\n",
      "File Already Created\n",
      "File Already Created\n",
      "File Already Created\n",
      "File Already Created\n",
      "File Already Created\n",
      "File Already Created\n",
      "File Already Created\n",
      "File Already Created\n",
      "File Already Created\n",
      "File Already Created\n",
      "File Already Created\n",
      "File Already Created\n",
      "File Already Created\n",
      "File Already Created\n",
      "File Already Created\n",
      "File Already Created\n",
      "File Already Created\n",
      "File Already Created\n",
      "File Already Created\n",
      "File Already Created\n",
      "File Already Created\n",
      "File Already Created\n",
      "File Already Created\n",
      "File Already Created\n",
      "File Already Created\n",
      "File Already Created\n",
      "File Already Created\n",
      "File Already Created\n",
      "File Already Created\n",
      "File Already Created\n",
      "File Already Created\n",
      "File Already Created\n",
      "File Already Created\n",
      "File Already Created\n",
      "File Already Created\n",
      "File Already Created\n",
      "File Already Created\n",
      "File Already Created\n",
      "File Already Created\n",
      "File Already Created\n",
      "File Already Created\n",
      "File Already Created\n",
      "File Already Created\n",
      "File Already Created\n",
      "File Already Created\n",
      "File Already Created\n",
      "File Already Created\n",
      "File Already Created\n",
      "File Already Created\n",
      "File Already Created\n",
      "File Already Created\n",
      "File Already Created\n",
      "File Already Created\n",
      "File Already Created\n",
      "File Already Created\n",
      "File Already Created\n",
      "File Already Created\n",
      "File Already Created\n",
      "File Already Created\n",
      "File Already Created\n",
      "File Already Created\n",
      "File Already Created\n",
      "File Already Created\n",
      "File Already Created\n",
      "File Already Created\n",
      "File Already Created\n",
      "File Already Created\n",
      "File Already Created\n",
      "File Already Created\n",
      "All frames written in the: Train_Videos Folder\n",
      "File Already Created\n",
      "File Already Created\n",
      "File Already Created\n",
      "File Already Created\n",
      "File Already Created\n",
      "File Already Created\n",
      "File Already Created\n",
      "File Already Created\n",
      "File Already Created\n",
      "File Already Created\n",
      "File Already Created\n",
      "File Already Created\n",
      "File Already Created\n",
      "File Already Created\n",
      "File Already Created\n",
      "File Already Created\n",
      "File Already Created\n",
      "File Already Created\n",
      "File Already Created\n",
      "File Already Created\n",
      "File Already Created\n",
      "File Already Created\n",
      "File Already Created\n",
      "File Already Created\n",
      "File Already Created\n",
      "File Already Created\n"
     ]
    },
    {
     "ename": "KeyboardInterrupt",
     "evalue": "",
     "output_type": "error",
     "traceback": [
      "\u001b[0;31m---------------------------------------------------------------------------\u001b[0m",
      "\u001b[0;31mKeyboardInterrupt\u001b[0m                         Traceback (most recent call last)",
      "\u001b[0;32m<ipython-input-6-b398a02d2487>\u001b[0m in \u001b[0;36m<module>\u001b[0;34m\u001b[0m\n\u001b[1;32m     33\u001b[0m \u001b[0;34m\u001b[0m\u001b[0m\n\u001b[1;32m     34\u001b[0m \u001b[0mvideo_capturing_function\u001b[0m\u001b[0;34m(\u001b[0m\u001b[0mtrain_set\u001b[0m\u001b[0;34m,\u001b[0m \u001b[0;34m\"Train_Videos\"\u001b[0m\u001b[0;34m)\u001b[0m\u001b[0;34m\u001b[0m\u001b[0;34m\u001b[0m\u001b[0m\n\u001b[0;32m---> 35\u001b[0;31m \u001b[0mvideo_capturing_function\u001b[0m\u001b[0;34m(\u001b[0m\u001b[0mtest_set\u001b[0m\u001b[0;34m,\u001b[0m \u001b[0;34m\"Test_Videos\"\u001b[0m\u001b[0;34m)\u001b[0m\u001b[0;34m\u001b[0m\u001b[0;34m\u001b[0m\u001b[0m\n\u001b[0m",
      "\u001b[0;32m<ipython-input-6-b398a02d2487>\u001b[0m in \u001b[0;36mvideo_capturing_function\u001b[0;34m(dataset, folder_name)\u001b[0m\n\u001b[1;32m     27\u001b[0m                 \u001b[0mcount\u001b[0m \u001b[0;34m+=\u001b[0m \u001b[0;36m1\u001b[0m\u001b[0;34m\u001b[0m\u001b[0;34m\u001b[0m\u001b[0m\n\u001b[1;32m     28\u001b[0m                 \u001b[0mframe_grey\u001b[0m \u001b[0;34m=\u001b[0m \u001b[0mcv2\u001b[0m\u001b[0;34m.\u001b[0m\u001b[0mcvtColor\u001b[0m\u001b[0;34m(\u001b[0m\u001b[0mframe\u001b[0m\u001b[0;34m,\u001b[0m \u001b[0mcv2\u001b[0m\u001b[0;34m.\u001b[0m\u001b[0mCOLOR_BGR2GRAY\u001b[0m\u001b[0;34m)\u001b[0m\u001b[0;34m\u001b[0m\u001b[0;34m\u001b[0m\u001b[0m\n\u001b[0;32m---> 29\u001b[0;31m                 \u001b[0mcv2\u001b[0m\u001b[0;34m.\u001b[0m\u001b[0mimwrite\u001b[0m\u001b[0;34m(\u001b[0m\u001b[0mos\u001b[0m\u001b[0;34m.\u001b[0m\u001b[0mpath\u001b[0m\u001b[0;34m.\u001b[0m\u001b[0mjoin\u001b[0m\u001b[0;34m(\u001b[0m\u001b[0mtrain_write_file\u001b[0m\u001b[0;34m,\u001b[0m \u001b[0mfilename\u001b[0m\u001b[0;34m)\u001b[0m\u001b[0;34m,\u001b[0m \u001b[0mframe_grey\u001b[0m\u001b[0;34m)\u001b[0m\u001b[0;34m\u001b[0m\u001b[0;34m\u001b[0m\u001b[0m\n\u001b[0m\u001b[1;32m     30\u001b[0m         \u001b[0mcap\u001b[0m\u001b[0;34m.\u001b[0m\u001b[0mrelease\u001b[0m\u001b[0;34m(\u001b[0m\u001b[0;34m)\u001b[0m\u001b[0;34m\u001b[0m\u001b[0;34m\u001b[0m\u001b[0m\n\u001b[1;32m     31\u001b[0m     \u001b[0;32mreturn\u001b[0m \u001b[0mprint\u001b[0m\u001b[0;34m(\u001b[0m\u001b[0;34m\"All frames written in the: \"\u001b[0m \u001b[0;34m+\u001b[0m \u001b[0mfolder_name\u001b[0m \u001b[0;34m+\u001b[0m \u001b[0;34m\" Folder\"\u001b[0m\u001b[0;34m)\u001b[0m\u001b[0;34m\u001b[0m\u001b[0;34m\u001b[0m\u001b[0m\n",
      "\u001b[0;31mKeyboardInterrupt\u001b[0m: "
     ]
    }
   ],
   "source": [
    "def video_capturing_function(dataset, folder_name):\n",
    "    for i in np.arange(len(dataset)):\n",
    "        video_name = dataset.video_name[i]\n",
    "        video_read_path = os.path.join(path, video_name)\n",
    "        cap = cv2.VideoCapture(video_read_path)\n",
    "        try:\n",
    "            os.mkdir(os.path.join(os.path.join(path, folder_name),\n",
    "                                  video_name.split(\".\")[0]))\n",
    "        except:\n",
    "            print(\"File Already Created\")\n",
    "\n",
    "        train_write_file = os.path.join(os.path.join(path, folder_name),\n",
    "                                        video_name.split(\".\")[0])\n",
    "        cap.set(cv2.CAP_PROP_FPS, 20)\n",
    "        frameRate = cap.get(5)\n",
    "        x = 1\n",
    "        count = 0\n",
    "        while (cap.isOpened()):\n",
    "            frameId = cap.get(1)  # current frame number\n",
    "            ret, frame = cap.read()\n",
    "            if (ret != True):\n",
    "                break\n",
    "            # print(frameRate / 6)\n",
    "            if (frameId % math.floor(frameRate / SAMPLING_RATE) == 0):\n",
    "                # if (frameId % math.floor(frameRate) == 0):\n",
    "                filename = \"frame%d.jpg\" % count;\n",
    "                count += 1\n",
    "                frame_grey = cv2.cvtColor(frame, cv2.COLOR_BGR2GRAY)\n",
    "                cv2.imwrite(os.path.join(train_write_file, filename), frame_grey)\n",
    "        cap.release()\n",
    "    return print(\"All frames written in the: \" + folder_name + \" Folder\")\n",
    "\n",
    "\n",
    "video_capturing_function(train_set, \"Train_Videos\")\n",
    "video_capturing_function(test_set, \"Test_Videos\")\n"
   ]
  },
  {
   "cell_type": "code",
   "execution_count": null,
   "id": "a82a910c",
   "metadata": {},
   "outputs": [],
   "source": [
    "# currently not in use\n",
    "# Code to see how many frames are captured for each video:\n",
    "train_dir_path='/home/alehof/Sit_to_stand/Train_Videos'\n",
    "test_dir_path='/home/alehof/Sit_to_stand/Test_Videos'\n",
    "\n",
    "vid_file_name=train_set.video_name[0].split('.')[0]\n",
    "\n",
    "train_frames=[]\n",
    "for i in np.arange(len(train_set.video_name)):\n",
    "    vid_file_name=train_set.video_name[i].split('.')[0]\n",
    "    train_frames.append(len(os.listdir(os.path.join(train_dir_path,vid_file_name))))\n",
    "\n",
    "test_frames=[]\n",
    "for i in np.arange(len(test_set.video_name)):\n",
    "    vid_file_name=test_set.video_name[i].split('.')[0]\n",
    "    test_frames.append(len(os.listdir(os.path.join(test_dir_path,vid_file_name))))\n"
   ]
  },
  {
   "cell_type": "code",
   "execution_count": null,
   "id": "cf132bc8",
   "metadata": {},
   "outputs": [],
   "source": [
    "def frame_generating_function(dataset, dir_path):\n",
    "    for i in np.arange(len(dataset.video_name)):\n",
    "        vid_namu = dataset.video_name[i]\n",
    "        vid_path = os.path.join(dir_path, vid_namu.split(\".\")[0])\n",
    "        # print(vid_path)\n",
    "        len_frame = len(os.listdir(vid_path))\n",
    "        # print(len_frame)\n",
    "        # this is an important value (10 i want to utilize 10 frames, maybe i should set this to a constant)\n",
    "        j = SAMPLING_REPRESENTATION - len(os.listdir(vid_path))\n",
    "        # print(j)\n",
    "\n",
    "        if j > 0:\n",
    "            list_frames = os.listdir(vid_path)\n",
    "            print(list_frames)\n",
    "            c = 0\n",
    "            for k in np.arange(j):\n",
    "                list_frames = os.listdir(vid_path)\n",
    "                print(list_frames)\n",
    "                # print(list_frames)\n",
    "                frame = os.path.join(vid_path, list_frames[0])\n",
    "                # print(frame)\n",
    "                # get the first frame to be coppied\n",
    "                # print(frame)\n",
    "                countu = k + len_frame\n",
    "                new_frame = \"frame%d.jpg\" % countu\n",
    "                shutil.copy2(frame, os.path.join(vid_path, new_frame))\n",
    "                # c+=1\n",
    "                # omitting this, I intend to only copy the last frame the amount of times i need it and place it at the end.\n",
    "\n",
    "        else:\n",
    "            pass\n",
    "    return print(\"Frame Generation Done!\")\n",
    "\n",
    "\n",
    "frame_generating_function(train_set, train_dir_path)\n",
    "frame_generating_function(test_set, test_dir_path)"
   ]
  },
  {
   "cell_type": "code",
   "execution_count": null,
   "id": "05b0d1ef",
   "metadata": {},
   "outputs": [],
   "source": [
    "# some troubles detected, folder incorrect respectively correct is created but no files placed, that is why error index out of range occurs,\n",
    "# can be overcome if another exercise is copied in the respective folder"
   ]
  },
  {
   "cell_type": "code",
   "execution_count": null,
   "id": "ab854f8d",
   "metadata": {},
   "outputs": [],
   "source": [
    "# Train and Validation Splitting:\n",
    "label_1_dat=train_set.loc[train_set[\"labels\"]==1,]\n",
    "label_0_dat=train_set.loc[train_set[\"labels\"]==0,]\n",
    "\n",
    "train_len_label1=math.floor(len(label_1_dat)*VALIDATION_VALUES_PARAMETER)\n",
    "train_len_label0=math.floor(len(label_0_dat)*VALIDATION_VALUES_PARAMETER)\n",
    "\n",
    "train_dat_label1=label_1_dat.iloc[:train_len_label1,]\n",
    "train_dat_label0=label_0_dat.iloc[:train_len_label0,]\n",
    "\n",
    "validation_dat_label1=label_1_dat.iloc[train_len_label1:,]\n",
    "validation_dat_label0=label_0_dat.iloc[train_len_label0:,]\n",
    "\n",
    "train_vid_dat=train_dat_label1.append(train_dat_label0,ignore_index=True)\n",
    "validation_vid_dat=validation_dat_label1.append(validation_dat_label0,ignore_index=True)"
   ]
  },
  {
   "cell_type": "code",
   "execution_count": null,
   "id": "c5ab9d20",
   "metadata": {},
   "outputs": [],
   "source": [
    "# Data load function for 10 frames:\n",
    "\n",
    "def data_load_function_SAMPLING_REPRESENTATION_frames(dataset,directory):\n",
    "    frames=[]\n",
    "    for i in np.arange(len(dataset)):\n",
    "        vid_name=dataset.video_name[i].split(\".\")[0]\n",
    "        vid_dir_path=os.path.join(directory,vid_name)\n",
    "        frames_to_select=[]\n",
    "        for l in np.arange(0,SAMPLING_REPRESENTATION):\n",
    "            frames_to_select.append('frame%d.jpg' % l)\n",
    "        vid_data=[]\n",
    "        for frame in frames_to_select:\n",
    "            image=Image.open(os.path.join(vid_dir_path,frame))\n",
    "            image=image.resize((IMAGE_HEIGHT, IMAGE_WIDTH), Image.ANTIALIAS)\n",
    "            datu=np.asarray(image)\n",
    "            normu_dat=datu/255\n",
    "            vid_data.append(normu_dat)\n",
    "        vid_data=np.array(vid_data)\n",
    "        frames.append(vid_data)\n",
    "    return np.array(frames)\n"
   ]
  },
  {
   "cell_type": "code",
   "execution_count": null,
   "id": "13e85fc5",
   "metadata": {},
   "outputs": [],
   "source": [
    "# frames train,validation and test data:\n",
    "\n",
    "test_dataset_new=data_load_function_SAMPLING_REPRESENTATION_frames(test_set, test_dir_path)\n",
    "train_dataset_new=data_load_function_SAMPLING_REPRESENTATION_frames(train_vid_dat, train_dir_path)\n",
    "validation_dataset_new= data_load_function_SAMPLING_REPRESENTATION_frames(validation_vid_dat, train_dir_path)\n",
    "\n",
    "test_labels=np.array(test_set.labels)\n",
    "train_labels=np.array(train_vid_dat.labels)\n",
    "validation_labels=np.array(validation_vid_dat.labels)"
   ]
  },
  {
   "cell_type": "code",
   "execution_count": null,
   "id": "fa215c93",
   "metadata": {},
   "outputs": [],
   "source": [
    "INTEGER_RESULT =  math.floor(DOUBLE_TRAINING*VALIDATION_VALUES_PARAMETER)\n",
    "INTEGER_RESULT_2 = math.ceil((DOUBLE_TRAINING*(1 - VALIDATION_VALUES_PARAMETER)))\n",
    "# Reshaping tensors to confirm with the model we are going to train:\n",
    "test_dataset_new=test_dataset_new.reshape((DOUBLE_TEST,SAMPLING_REPRESENTATION,IMAGE_HEIGHT,IMAGE_WIDTH,1))\n",
    "train_dataset_new=train_dataset_new.reshape((INTEGER_RESULT,SAMPLING_REPRESENTATION,IMAGE_HEIGHT,IMAGE_WIDTH,1))\n",
    "validation_dataset_new=validation_dataset_new.reshape((INTEGER_RESULT_2,SAMPLING_REPRESENTATION,IMAGE_HEIGHT,IMAGE_WIDTH,1))\n",
    "print(train_dataset_new)\n",
    "print(train_labels)"
   ]
  },
  {
   "cell_type": "code",
   "execution_count": null,
   "id": "a376f07b",
   "metadata": {},
   "outputs": [],
   "source": [
    "## important to consider exercise numbers, as above 80 % of training will stay training data\n",
    "## 20 % will become validation data \n",
    "## therefore considering the 140 videos i had\n",
    "## i had 98 in training data folder. and 42 in test data folder\n",
    "## 98 * 0,2 = 20 rounded, + 98*0,8 = 78 rounded (math floor), now it matches up.\n",
    "\n",
    "## new try with 80% - 20 %\n",
    "\n",
    "# 110 and 28"
   ]
  },
  {
   "cell_type": "code",
   "execution_count": null,
   "id": "f6c2970f",
   "metadata": {},
   "outputs": [],
   "source": [
    "baseline_predictions=np.ones(len(test_labels))\n",
    "test_accuracy_naive=np.where(baseline_predictions==test_labels)[0].shape[0]/len(test_labels)\n",
    "test_accuracy_naive"
   ]
  },
  {
   "cell_type": "code",
   "execution_count": null,
   "id": "cd9db9ab",
   "metadata": {},
   "outputs": [],
   "source": [
    "#now standard simple CNN and LSTM basic architecture\n"
   ]
  },
  {
   "cell_type": "code",
   "execution_count": null,
   "id": "4be6ba39",
   "metadata": {},
   "outputs": [],
   "source": [
    "import gc\n",
    "from tensorflow.keras import backend as k\n",
    "from tensorflow.keras.callbacks import Callback"
   ]
  },
  {
   "cell_type": "code",
   "execution_count": null,
   "id": "8df08f90",
   "metadata": {},
   "outputs": [],
   "source": [
    "class ClearMemory(Callback):\n",
    "    def on_epoch_end(self, epoch, logs=None):\n",
    "        gc.collect()\n",
    "        k.clear_session()"
   ]
  },
  {
   "cell_type": "code",
   "execution_count": null,
   "id": "3ad325d1",
   "metadata": {},
   "outputs": [],
   "source": []
  },
  {
   "cell_type": "code",
   "execution_count": null,
   "id": "5987625d",
   "metadata": {},
   "outputs": [],
   "source": [
    "##### REASSIGNING TYPE CONVERSION NEEDED FOR ALL MODELS\n",
    "train_dataset_new=np.asarray(train_dataset_new).astype(np.float32)\n",
    "train_labels=np.asarray(train_labels).astype(np.float32)\n",
    "validation_dataset_new=np.asarray(validation_dataset_new).astype(np.float32)\n",
    "validation_labels=np.asarray(validation_labels).astype(np.float32)\n",
    "test_dataset_new=np.asarray(test_dataset_new).astype(np.float32)\n",
    "test_labels=np.asarray(test_labels).astype(np.float32)\n",
    "# Evaluate the model on the test data using `evaluate`\n",
    "print(\"Evaluate on test data\")"
   ]
  },
  {
   "cell_type": "code",
   "execution_count": null,
   "id": "e405d1cb",
   "metadata": {},
   "outputs": [],
   "source": [
    "\n",
    "import tensorflow as tf\n",
    "tf.config.list_physical_devices('GPU')\n"
   ]
  },
  {
   "cell_type": "code",
   "execution_count": null,
   "id": "75d05524",
   "metadata": {},
   "outputs": [],
   "source": [
    "##### 3D CNN Architecture:\n"
   ]
  },
  {
   "cell_type": "code",
   "execution_count": null,
   "id": "65ed2ecf",
   "metadata": {},
   "outputs": [],
   "source": [
    "from keras.layers import Conv3D, MaxPooling3D, BatchNormalization, Dropout, Dense, Flatten, concatenate\n",
    "from keras.models import Model\n",
    "from keras import Input\n",
    "# 3D Convolutional Model:\n",
    "input_model=Input(shape=(SAMPLING_REPRESENTATION, IMAGE_HEIGHT, IMAGE_WIDTH, 1))\n",
    "layer=Conv3D(32,(3,3,3),strides=(1,1,1),activation='relu')(input_model)\n",
    "layer=MaxPooling3D((2,2,2))(layer)\n",
    "layer=Conv3D(64,(3,3,3),strides=(1,1,1),activation='relu')(layer)\n",
    "layer=MaxPooling3D((2,2,2))(layer)\n",
    "layer=BatchNormalization()(layer)\n",
    "layer=Flatten()(layer)\n",
    "layer=Dense(128,activation='relu')(layer)\n",
    "layer=Dropout(0.1)(layer)\n",
    "layer=Dense(64,activation='relu')(layer)\n",
    "layer=Dense(32,activation='relu')(layer)\n",
    "layer_output=Dense(1,activation='sigmoid')(layer)\n",
    "\n",
    "model_3dConv=Model(input_model,layer_output)\n",
    "\n",
    "model_3dConv.summary()"
   ]
  },
  {
   "cell_type": "code",
   "execution_count": null,
   "id": "1d0f8221",
   "metadata": {},
   "outputs": [],
   "source": [
    "##### MODEL _ KEYPARAMETERS\n",
    "\n",
    "FACTOR = 0.1\n",
    "PATIENCE = 4\n",
    "BATCH_SIZE = 4\n",
    "EPOCHS = 14\n",
    "\n",
    "##### USING TIME TO STORE MODEL NAME\n",
    "import time\n",
    "timestr = time.strftime(\"%Y%m%d-%H%M%S\")\n",
    "\n",
    "\n",
    "\n",
    "FILEPATH = 'cnn_lstm_model_3_' + timestr + '.h5'\n",
    "print(FILEPATH)"
   ]
  },
  {
   "cell_type": "code",
   "execution_count": null,
   "id": "3f988811",
   "metadata": {},
   "outputs": [],
   "source": [
    "# Conv3d model training:\n",
    "from keras import optimizers\n",
    "optimizer_new=optimizers.RMSprop(lr=0.1)\n",
    "optimizer_adagrad=keras.optimizers.Adagrad(lr=0.01)\n",
    "callbacks_list_conv_3d=[keras.callbacks.EarlyStopping(\n",
    "monitor='acc',patience=4),\n",
    "               keras.callbacks.ModelCheckpoint(\n",
    "               filepath=FILEPATH,\n",
    "               monitor='val_loss',\n",
    "               save_best_only=True),\n",
    "                        keras.callbacks.ReduceLROnPlateau(monitor = \"val_loss\", factor = FACTOR, patience = PATIENCE)\n",
    "               ]\n",
    "model_3dConv.compile(optimizer=optimizer_adagrad,loss='binary_crossentropy',metrics=['acc'])\n",
    "conv_3d_model_history=model_3dConv.fit(train_dataset_new,train_labels,batch_size=BATCH_SIZE,epochs=EPOCHS,\n",
    "               validation_data=(validation_dataset_new,validation_labels),\n",
    "               callbacks=callbacks_list_conv_3d)"
   ]
  },
  {
   "cell_type": "code",
   "execution_count": 61,
   "id": "93b65d50",
   "metadata": {},
   "outputs": [
    {
     "data": {
      "image/png": "[encoded data removed]",
      "text/plain": [
       "<Figure size 432x288 with 4 Axes>"
      ]
     },
     "metadata": {
      "needs_background": "light"
     },
     "output_type": "display_data"
    }
   ],
   "source": [
    "acc=conv_3d_model_history.history[\"acc\"]\n",
    "val_acc=conv_3d_model_history.history[\"val_acc\"]\n",
    "loss=conv_3d_model_history.history[\"loss\"]\n",
    "val_loss=conv_3d_model_history.history[\"val_loss\"]\n",
    "\n",
    "\n",
    "epochs=np.arange(1,14)\n",
    "\n",
    "plt.figure()\n",
    "plt.subplot(2,2,1)\n",
    "plt.plot(epochs,val_acc,'-o')\n",
    "plt.title('Validation Accuracy')\n",
    "\n",
    "plt.subplot(2,2,2)\n",
    "plt.plot(epochs,acc,'-o')\n",
    "plt.title('Train Accuracy')\n",
    "\n",
    "plt.subplot(2,2,3)\n",
    "plt.plot(epochs,val_loss,'-o')\n",
    "plt.title('Validation Loss')\n",
    "\n",
    "plt.subplot(2,2,4)\n",
    "plt.plot(epochs,loss,'-o')\n",
    "plt.title('Training Loss')\n",
    "\n",
    "\n",
    "plt.tight_layout()"
   ]
  },
  {
   "cell_type": "code",
   "execution_count": 62,
   "id": "9b409d6b",
   "metadata": {},
   "outputs": [
    {
     "name": "stdout",
     "output_type": "stream",
     "text": [
      "3/3 [==============================] - 2s 512ms/step - loss: 0.0652 - acc: 0.9868\n"
     ]
    },
    {
     "data": {
      "text/plain": [
       "[0.0651533454656601, 0.9868420958518982]"
      ]
     },
     "execution_count": 62,
     "metadata": {},
     "output_type": "execute_result"
    }
   ],
   "source": [
    "#modelu_6=load_model('stretch_model_conv_3d_new4.h5')\n",
    "modelu_6=load_model(FILEPATH)\n",
    "modelu_6.evaluate(test_dataset_new,test_labels)"
   ]
  },
  {
   "cell_type": "code",
   "execution_count": null,
   "id": "336ed2c7",
   "metadata": {},
   "outputs": [],
   "source": [
    "#Loading the two best models:"
   ]
  },
  {
   "cell_type": "code",
   "execution_count": 42,
   "id": "42e6b239",
   "metadata": {},
   "outputs": [],
   "source": [
    "modelu_cnlst_1=load_model('cnn_lstm_model_3_20210620-090949.h5')\n",
    "### FOR TIMES SAKE 2 times the same\n",
    "modelu_cnlst_2=load_model('cnn_lstm_model_3_20210620-090949.h5')\n",
    "\n",
    "# since they were already loaded -> the model names need to be manually asigned here \n",
    "#modelu_cnlst_1=load_model('cnn_lstm_model_new3.h5')\n",
    "#modelu_cnlst_2=load_model('cnn_lstm_model_new4.h5')"
   ]
  },
  {
   "cell_type": "code",
   "execution_count": 43,
   "id": "261f63e2",
   "metadata": {},
   "outputs": [
    {
     "name": "stdout",
     "output_type": "stream",
     "text": [
      "['vid_3.mp4', 'vid_5.mp4', 'test_rl_1.mp4', 'vid_2.mp4', 'vid_1.mp4', 'vid_7.mp4', 'vid_8.mp4', 'vid_0.mp4', 'vid_9.mp4', 'vid_4.mp4', 'test_rl_1', 'vid_6.mp4']\n"
     ]
    }
   ],
   "source": [
    "#Video Folder Create Function:¶\n",
    "video_list=os.listdir(os.path.join(path,'test_rl_1'))\n",
    "\n",
    "print(video_list)"
   ]
  },
  {
   "cell_type": "code",
   "execution_count": 44,
   "id": "b37c0701",
   "metadata": {},
   "outputs": [
    {
     "name": "stdout",
     "output_type": "stream",
     "text": [
      "/home/alehof/Sit_to_stand\n"
     ]
    }
   ],
   "source": [
    "print(path)"
   ]
  },
  {
   "cell_type": "code",
   "execution_count": 45,
   "id": "aed420fb",
   "metadata": {},
   "outputs": [
    {
     "name": "stdout",
     "output_type": "stream",
     "text": [
      "Requirement already satisfied: moviepy in ./BA2/lib/python3.8/site-packages (1.0.3)\n",
      "Requirement already satisfied: imageio<3.0,>=2.5; python_version >= \"3.4\" in ./BA2/lib/python3.8/site-packages (from moviepy) (2.9.0)\n",
      "Requirement already satisfied: decorator<5.0,>=4.0.2 in ./BA2/lib/python3.8/site-packages (from moviepy) (4.4.2)\n",
      "Requirement already satisfied: imageio-ffmpeg>=0.2.0; python_version >= \"3.4\" in ./BA2/lib/python3.8/site-packages (from moviepy) (0.4.4)\n",
      "Requirement already satisfied: numpy>=1.17.3; python_version != \"2.7\" in ./BA2/lib/python3.8/site-packages (from moviepy) (1.19.5)\n",
      "Requirement already satisfied: requests<3.0,>=2.8.1 in ./BA2/lib/python3.8/site-packages (from moviepy) (2.22.0)\n",
      "Requirement already satisfied: proglog<=1.0.0 in ./BA2/lib/python3.8/site-packages (from moviepy) (0.1.9)\n",
      "Requirement already satisfied: tqdm<5.0,>=4.11.2 in ./BA2/lib/python3.8/site-packages (from moviepy) (4.61.2)\n",
      "Requirement already satisfied: pillow in ./BA2/lib/python3.8/site-packages (from imageio<3.0,>=2.5; python_version >= \"3.4\"->moviepy) (8.2.0)\n"
     ]
    }
   ],
   "source": [
    "!pip install moviepy"
   ]
  },
  {
   "cell_type": "code",
   "execution_count": 46,
   "id": "545dc004",
   "metadata": {},
   "outputs": [
    {
     "name": "stdout",
     "output_type": "stream",
     "text": [
      "Folder already created\n",
      "Moviepy - Building video /home/alehof/Sit_to_stand/test_rl_1/vid_0.mp4.\n",
      "MoviePy - Writing audio in vid_0TEMP_MPY_wvf_snd.mp4\n"
     ]
    },
    {
     "name": "stderr",
     "output_type": "stream",
     "text": [
      "                                                        \r"
     ]
    },
    {
     "name": "stdout",
     "output_type": "stream",
     "text": [
      "MoviePy - Done.\n",
      "Moviepy - Writing video /home/alehof/Sit_to_stand/test_rl_1/vid_0.mp4\n",
      "\n"
     ]
    },
    {
     "name": "stderr",
     "output_type": "stream",
     "text": [
      "                                                               \r"
     ]
    },
    {
     "name": "stdout",
     "output_type": "stream",
     "text": [
      "Moviepy - Done !\n",
      "Moviepy - video ready /home/alehof/Sit_to_stand/test_rl_1/vid_0.mp4\n",
      "Moviepy - Building video /home/alehof/Sit_to_stand/test_rl_1/vid_1.mp4.\n",
      "MoviePy - Writing audio in vid_1TEMP_MPY_wvf_snd.mp4\n"
     ]
    },
    {
     "name": "stderr",
     "output_type": "stream",
     "text": [
      "                                                       \r"
     ]
    },
    {
     "name": "stdout",
     "output_type": "stream",
     "text": [
      "MoviePy - Done.\n",
      "Moviepy - Writing video /home/alehof/Sit_to_stand/test_rl_1/vid_1.mp4\n",
      "\n"
     ]
    },
    {
     "name": "stderr",
     "output_type": "stream",
     "text": [
      "                                                               \r"
     ]
    },
    {
     "name": "stdout",
     "output_type": "stream",
     "text": [
      "Moviepy - Done !\n",
      "Moviepy - video ready /home/alehof/Sit_to_stand/test_rl_1/vid_1.mp4\n",
      "Moviepy - Building video /home/alehof/Sit_to_stand/test_rl_1/vid_2.mp4.\n",
      "MoviePy - Writing audio in vid_2TEMP_MPY_wvf_snd.mp4\n"
     ]
    },
    {
     "name": "stderr",
     "output_type": "stream",
     "text": [
      "                                                       \r"
     ]
    },
    {
     "name": "stdout",
     "output_type": "stream",
     "text": [
      "MoviePy - Done.\n",
      "Moviepy - Writing video /home/alehof/Sit_to_stand/test_rl_1/vid_2.mp4\n",
      "\n"
     ]
    },
    {
     "name": "stderr",
     "output_type": "stream",
     "text": [
      "                                                               \r"
     ]
    },
    {
     "name": "stdout",
     "output_type": "stream",
     "text": [
      "Moviepy - Done !\n",
      "Moviepy - video ready /home/alehof/Sit_to_stand/test_rl_1/vid_2.mp4\n",
      "Moviepy - Building video /home/alehof/Sit_to_stand/test_rl_1/vid_3.mp4.\n",
      "MoviePy - Writing audio in vid_3TEMP_MPY_wvf_snd.mp4\n"
     ]
    },
    {
     "name": "stderr",
     "output_type": "stream",
     "text": [
      "                                                       \r"
     ]
    },
    {
     "name": "stdout",
     "output_type": "stream",
     "text": [
      "MoviePy - Done.\n",
      "Moviepy - Writing video /home/alehof/Sit_to_stand/test_rl_1/vid_3.mp4\n",
      "\n"
     ]
    },
    {
     "name": "stderr",
     "output_type": "stream",
     "text": [
      "                                                               \r"
     ]
    },
    {
     "name": "stdout",
     "output_type": "stream",
     "text": [
      "Moviepy - Done !\n",
      "Moviepy - video ready /home/alehof/Sit_to_stand/test_rl_1/vid_3.mp4\n",
      "Moviepy - Building video /home/alehof/Sit_to_stand/test_rl_1/vid_4.mp4.\n",
      "MoviePy - Writing audio in vid_4TEMP_MPY_wvf_snd.mp4\n"
     ]
    },
    {
     "name": "stderr",
     "output_type": "stream",
     "text": [
      "                                                       \r"
     ]
    },
    {
     "name": "stdout",
     "output_type": "stream",
     "text": [
      "MoviePy - Done.\n",
      "Moviepy - Writing video /home/alehof/Sit_to_stand/test_rl_1/vid_4.mp4\n",
      "\n"
     ]
    },
    {
     "name": "stderr",
     "output_type": "stream",
     "text": [
      "                                                               \r"
     ]
    },
    {
     "name": "stdout",
     "output_type": "stream",
     "text": [
      "Moviepy - Done !\n",
      "Moviepy - video ready /home/alehof/Sit_to_stand/test_rl_1/vid_4.mp4\n",
      "Moviepy - Building video /home/alehof/Sit_to_stand/test_rl_1/vid_5.mp4.\n",
      "MoviePy - Writing audio in vid_5TEMP_MPY_wvf_snd.mp4\n"
     ]
    },
    {
     "name": "stderr",
     "output_type": "stream",
     "text": [
      "                                                       \r"
     ]
    },
    {
     "name": "stdout",
     "output_type": "stream",
     "text": [
      "MoviePy - Done.\n",
      "Moviepy - Writing video /home/alehof/Sit_to_stand/test_rl_1/vid_5.mp4\n",
      "\n"
     ]
    },
    {
     "name": "stderr",
     "output_type": "stream",
     "text": [
      "                                                               \r"
     ]
    },
    {
     "name": "stdout",
     "output_type": "stream",
     "text": [
      "Moviepy - Done !\n",
      "Moviepy - video ready /home/alehof/Sit_to_stand/test_rl_1/vid_5.mp4\n",
      "Moviepy - Building video /home/alehof/Sit_to_stand/test_rl_1/vid_6.mp4.\n",
      "MoviePy - Writing audio in vid_6TEMP_MPY_wvf_snd.mp4\n"
     ]
    },
    {
     "name": "stderr",
     "output_type": "stream",
     "text": [
      "                                                       \r"
     ]
    },
    {
     "name": "stdout",
     "output_type": "stream",
     "text": [
      "MoviePy - Done.\n",
      "Moviepy - Writing video /home/alehof/Sit_to_stand/test_rl_1/vid_6.mp4\n",
      "\n"
     ]
    },
    {
     "name": "stderr",
     "output_type": "stream",
     "text": [
      "                                                               \r"
     ]
    },
    {
     "name": "stdout",
     "output_type": "stream",
     "text": [
      "Moviepy - Done !\n",
      "Moviepy - video ready /home/alehof/Sit_to_stand/test_rl_1/vid_6.mp4\n",
      "Moviepy - Building video /home/alehof/Sit_to_stand/test_rl_1/vid_7.mp4.\n",
      "MoviePy - Writing audio in vid_7TEMP_MPY_wvf_snd.mp4\n"
     ]
    },
    {
     "name": "stderr",
     "output_type": "stream",
     "text": [
      "                                                       \r"
     ]
    },
    {
     "name": "stdout",
     "output_type": "stream",
     "text": [
      "MoviePy - Done.\n",
      "Moviepy - Writing video /home/alehof/Sit_to_stand/test_rl_1/vid_7.mp4\n",
      "\n"
     ]
    },
    {
     "name": "stderr",
     "output_type": "stream",
     "text": [
      "                                                               \r"
     ]
    },
    {
     "name": "stdout",
     "output_type": "stream",
     "text": [
      "Moviepy - Done !\n",
      "Moviepy - video ready /home/alehof/Sit_to_stand/test_rl_1/vid_7.mp4\n",
      "Moviepy - Building video /home/alehof/Sit_to_stand/test_rl_1/vid_8.mp4.\n",
      "MoviePy - Writing audio in vid_8TEMP_MPY_wvf_snd.mp4\n"
     ]
    },
    {
     "name": "stderr",
     "output_type": "stream",
     "text": [
      "                                                       \r"
     ]
    },
    {
     "name": "stdout",
     "output_type": "stream",
     "text": [
      "MoviePy - Done.\n",
      "Moviepy - Writing video /home/alehof/Sit_to_stand/test_rl_1/vid_8.mp4\n",
      "\n"
     ]
    },
    {
     "name": "stderr",
     "output_type": "stream",
     "text": [
      "                                                               \r"
     ]
    },
    {
     "name": "stdout",
     "output_type": "stream",
     "text": [
      "Moviepy - Done !\n",
      "Moviepy - video ready /home/alehof/Sit_to_stand/test_rl_1/vid_8.mp4\n",
      "Moviepy - Building video /home/alehof/Sit_to_stand/test_rl_1/vid_9.mp4.\n",
      "MoviePy - Writing audio in vid_9TEMP_MPY_wvf_snd.mp4\n"
     ]
    },
    {
     "name": "stderr",
     "output_type": "stream",
     "text": [
      "                                                       \r"
     ]
    },
    {
     "name": "stdout",
     "output_type": "stream",
     "text": [
      "MoviePy - Done.\n",
      "Moviepy - Writing video /home/alehof/Sit_to_stand/test_rl_1/vid_9.mp4\n",
      "\n"
     ]
    },
    {
     "name": "stderr",
     "output_type": "stream",
     "text": [
      "                                                               \r"
     ]
    },
    {
     "name": "stdout",
     "output_type": "stream",
     "text": [
      "Moviepy - Done !\n",
      "Moviepy - video ready /home/alehof/Sit_to_stand/test_rl_1/vid_9.mp4\n"
     ]
    },
    {
     "data": {
      "text/plain": [
       "True"
      ]
     },
     "execution_count": 46,
     "metadata": {},
     "output_type": "execute_result"
    }
   ],
   "source": [
    "from moviepy.video.io.VideoFileClip import VideoFileClip\n",
    "def video_folder_create(path,video_folder_name,video_name):\n",
    "    video_folder_path=os.path.join(path,video_folder_name)\n",
    "    try:\n",
    "        os.mkdir(os.path.join(video_folder_path,video_folder_name))\n",
    "    except:\n",
    "        print(\"Folder already created\")\n",
    "    input_video_path=os.path.join(path,video_name)\n",
    "    times=[[0,5],[6,10],[11,15],[16,20],[21,25],[26,30],[31,35],[36,40],[41,45],[46,50]]\n",
    "    for i in np.arange(len(times)):\n",
    "        vid_name=\"vid_%d.mp4\" % i\n",
    "        output_video_path=os.path.join(video_folder_path,vid_name)\n",
    "        with VideoFileClip(input_video_path) as video:\n",
    "            new = video.subclip(times[i][0], times[i][1])\n",
    "            new.write_videofile(output_video_path,audio_codec='aac')\n",
    "    return True\n",
    "\n",
    "# Creating 5 folders for 5 test videos:\n",
    "video_folder_create(path,'test_rl_1','test_rl_1.mp4')\n"
   ]
  },
  {
   "cell_type": "code",
   "execution_count": 69,
   "id": "567e052b",
   "metadata": {},
   "outputs": [],
   "source": [
    "def real_time_prediction(path,video_folder_name):\n",
    "    folder_path=os.path.join(path,video_folder_name)\n",
    "    video_list=os.listdir(folder_path)\n",
    "    prediction_list_1=[]\n",
    "    prediction_list_2=[]\n",
    "    for i in np.arange(len(video_list)):\n",
    "        video_path=os.path.join(folder_path,video_list[i])\n",
    "        cap=cv2.VideoCapture(video_path)\n",
    "        cap.set(cv2.CAP_PROP_FPS, 1)\n",
    "        frameRate=cap.get(5)\n",
    "        x=1\n",
    "        count=0\n",
    "        frame_saved=[]\n",
    "        while(cap.isOpened()):\n",
    "            frameId = cap.get(1) #current frame number\n",
    "            ret, frame = cap.read()\n",
    "            if (ret != True):\n",
    "                break\n",
    "            if (frameId % math.floor(frameRate) == 0):\n",
    "                frame_grey=cv2.cvtColor(frame, cv2.COLOR_BGR2GRAY)\n",
    "                frame_grey=cv2.resize(frame_grey,(63,63))\n",
    "                frame_grey=frame_grey/255\n",
    "                frame_saved.append(frame_grey)\n",
    "        cap.release()\n",
    "        frame_diff=10-len(frame_saved)\n",
    "        if frame_diff>0:\n",
    "            for k in np.arange(frame_diff):\n",
    "                frame_saved.append(frame_saved[k])\n",
    "        else:\n",
    "            pass\n",
    "        frame_saved=frame_saved[:10]\n",
    "        frame_saved=np.array(frame_saved)\n",
    "        dats=frame_saved.reshape((1,10,63,63,1))\n",
    "        prediction_list_1.append(modelu_cnlst_1.predict(dats))\n",
    "    return prediction_list_1"
   ]
  },
  {
   "cell_type": "code",
   "execution_count": 71,
   "id": "1b900816",
   "metadata": {},
   "outputs": [
    {
     "ename": "ValueError",
     "evalue": "in user code:\n\n    /home/alehof/BA2_action_recogntion/BA2/lib/python3.8/site-packages/keras/engine/training.py:1544 predict_function  *\n        return step_function(self, iterator)\n    /home/alehof/BA2_action_recogntion/BA2/lib/python3.8/site-packages/keras/engine/training.py:1527 run_step  *\n        outputs = model.predict_step(data)\n    /home/alehof/BA2_action_recogntion/BA2/lib/python3.8/site-packages/keras/engine/training.py:1500 predict_step  *\n        return self(x, training=False)\n    /home/alehof/BA2_action_recogntion/BA2/lib/python3.8/site-packages/keras/engine/base_layer.py:989 __call__  *\n        input_spec.assert_input_compatibility(self.input_spec, inputs, self.name)\n    /home/alehof/BA2_action_recogntion/BA2/lib/python3.8/site-packages/keras/engine/input_spec.py:264 assert_input_compatibility  *\n        raise ValueError('Input ' + str(input_index) +\n\n    ValueError: Input 0 is incompatible with layer model_1: expected shape=(None, 20, 63, 63, 1), found shape=(None, 10, None, None, 1)\n",
     "output_type": "error",
     "traceback": [
      "\u001b[0;31m---------------------------------------------------------------------------\u001b[0m",
      "\u001b[0;31mValueError\u001b[0m                                Traceback (most recent call last)",
      "\u001b[0;32m<ipython-input-71-c1704dca1ac6>\u001b[0m in \u001b[0;36m<module>\u001b[0;34m\u001b[0m\n\u001b[0;32m----> 1\u001b[0;31m \u001b[0mprediction_model_1\u001b[0m\u001b[0;34m=\u001b[0m\u001b[0mreal_time_prediction\u001b[0m\u001b[0;34m(\u001b[0m\u001b[0mpath\u001b[0m\u001b[0;34m,\u001b[0m\u001b[0;34m\"test_rl_1\"\u001b[0m\u001b[0;34m)\u001b[0m\u001b[0;34m\u001b[0m\u001b[0;34m\u001b[0m\u001b[0m\n\u001b[0m\u001b[1;32m      2\u001b[0m \u001b[0mprint\u001b[0m\u001b[0;34m(\u001b[0m\u001b[0mprediction_model_1\u001b[0m\u001b[0;34m)\u001b[0m\u001b[0;34m\u001b[0m\u001b[0;34m\u001b[0m\u001b[0m\n\u001b[1;32m      3\u001b[0m \u001b[0mpredu_1\u001b[0m\u001b[0;34m=\u001b[0m\u001b[0;34m[\u001b[0m\u001b[0;34m]\u001b[0m\u001b[0;34m\u001b[0m\u001b[0;34m\u001b[0m\u001b[0m\n\u001b[1;32m      4\u001b[0m \u001b[0;32mfor\u001b[0m \u001b[0mi\u001b[0m \u001b[0;32min\u001b[0m \u001b[0mprediction_model_1\u001b[0m\u001b[0;34m:\u001b[0m\u001b[0;34m\u001b[0m\u001b[0;34m\u001b[0m\u001b[0m\n\u001b[1;32m      5\u001b[0m     \u001b[0mpredu_1\u001b[0m\u001b[0;34m.\u001b[0m\u001b[0mappend\u001b[0m\u001b[0;34m(\u001b[0m\u001b[0mlist\u001b[0m\u001b[0;34m(\u001b[0m\u001b[0mi\u001b[0m\u001b[0;34m[\u001b[0m\u001b[0;36m0\u001b[0m\u001b[0;34m]\u001b[0m\u001b[0;34m)\u001b[0m\u001b[0;34m[\u001b[0m\u001b[0;36m0\u001b[0m\u001b[0;34m]\u001b[0m\u001b[0;34m)\u001b[0m\u001b[0;34m\u001b[0m\u001b[0;34m\u001b[0m\u001b[0m\n",
      "\u001b[0;32m<ipython-input-69-fdd3d8ae4c4b>\u001b[0m in \u001b[0;36mreal_time_prediction\u001b[0;34m(path, video_folder_name)\u001b[0m\n\u001b[1;32m     32\u001b[0m         \u001b[0mframe_saved\u001b[0m\u001b[0;34m=\u001b[0m\u001b[0mnp\u001b[0m\u001b[0;34m.\u001b[0m\u001b[0marray\u001b[0m\u001b[0;34m(\u001b[0m\u001b[0mframe_saved\u001b[0m\u001b[0;34m)\u001b[0m\u001b[0;34m\u001b[0m\u001b[0;34m\u001b[0m\u001b[0m\n\u001b[1;32m     33\u001b[0m         \u001b[0mdats\u001b[0m\u001b[0;34m=\u001b[0m\u001b[0mframe_saved\u001b[0m\u001b[0;34m.\u001b[0m\u001b[0mreshape\u001b[0m\u001b[0;34m(\u001b[0m\u001b[0;34m(\u001b[0m\u001b[0;36m1\u001b[0m\u001b[0;34m,\u001b[0m\u001b[0;36m10\u001b[0m\u001b[0;34m,\u001b[0m\u001b[0;36m63\u001b[0m\u001b[0;34m,\u001b[0m\u001b[0;36m63\u001b[0m\u001b[0;34m,\u001b[0m\u001b[0;36m1\u001b[0m\u001b[0;34m)\u001b[0m\u001b[0;34m)\u001b[0m\u001b[0;34m\u001b[0m\u001b[0;34m\u001b[0m\u001b[0m\n\u001b[0;32m---> 34\u001b[0;31m         \u001b[0mprediction_list_1\u001b[0m\u001b[0;34m.\u001b[0m\u001b[0mappend\u001b[0m\u001b[0;34m(\u001b[0m\u001b[0mmodelu_cnlst_1\u001b[0m\u001b[0;34m.\u001b[0m\u001b[0mpredict\u001b[0m\u001b[0;34m(\u001b[0m\u001b[0mdats\u001b[0m\u001b[0;34m)\u001b[0m\u001b[0;34m)\u001b[0m\u001b[0;34m\u001b[0m\u001b[0;34m\u001b[0m\u001b[0m\n\u001b[0m\u001b[1;32m     35\u001b[0m         \u001b[0mprint\u001b[0m\u001b[0;34m(\u001b[0m\u001b[0mprediction_list_1\u001b[0m\u001b[0;34m)\u001b[0m\u001b[0;34m\u001b[0m\u001b[0;34m\u001b[0m\u001b[0m\n\u001b[1;32m     36\u001b[0m         \u001b[0mprediction_list_2\u001b[0m\u001b[0;34m.\u001b[0m\u001b[0mappend\u001b[0m\u001b[0;34m(\u001b[0m\u001b[0mmodelu_cnlst_2\u001b[0m\u001b[0;34m.\u001b[0m\u001b[0mpredict\u001b[0m\u001b[0;34m(\u001b[0m\u001b[0mdats\u001b[0m\u001b[0;34m)\u001b[0m\u001b[0;34m)\u001b[0m\u001b[0;34m\u001b[0m\u001b[0;34m\u001b[0m\u001b[0m\n",
      "\u001b[0;32m~/BA2_action_recogntion/BA2/lib/python3.8/site-packages/keras/engine/training.py\u001b[0m in \u001b[0;36mpredict\u001b[0;34m(self, x, batch_size, verbose, steps, callbacks, max_queue_size, workers, use_multiprocessing)\u001b[0m\n\u001b[1;32m   1700\u001b[0m           \u001b[0;32mfor\u001b[0m \u001b[0mstep\u001b[0m \u001b[0;32min\u001b[0m \u001b[0mdata_handler\u001b[0m\u001b[0;34m.\u001b[0m\u001b[0msteps\u001b[0m\u001b[0;34m(\u001b[0m\u001b[0;34m)\u001b[0m\u001b[0;34m:\u001b[0m\u001b[0;34m\u001b[0m\u001b[0;34m\u001b[0m\u001b[0m\n\u001b[1;32m   1701\u001b[0m             \u001b[0mcallbacks\u001b[0m\u001b[0;34m.\u001b[0m\u001b[0mon_predict_batch_begin\u001b[0m\u001b[0;34m(\u001b[0m\u001b[0mstep\u001b[0m\u001b[0;34m)\u001b[0m\u001b[0;34m\u001b[0m\u001b[0;34m\u001b[0m\u001b[0m\n\u001b[0;32m-> 1702\u001b[0;31m             \u001b[0mtmp_batch_outputs\u001b[0m \u001b[0;34m=\u001b[0m \u001b[0mself\u001b[0m\u001b[0;34m.\u001b[0m\u001b[0mpredict_function\u001b[0m\u001b[0;34m(\u001b[0m\u001b[0miterator\u001b[0m\u001b[0;34m)\u001b[0m\u001b[0;34m\u001b[0m\u001b[0;34m\u001b[0m\u001b[0m\n\u001b[0m\u001b[1;32m   1703\u001b[0m             \u001b[0;32mif\u001b[0m \u001b[0mdata_handler\u001b[0m\u001b[0;34m.\u001b[0m\u001b[0mshould_sync\u001b[0m\u001b[0;34m:\u001b[0m\u001b[0;34m\u001b[0m\u001b[0;34m\u001b[0m\u001b[0m\n\u001b[1;32m   1704\u001b[0m               \u001b[0mcontext\u001b[0m\u001b[0;34m.\u001b[0m\u001b[0masync_wait\u001b[0m\u001b[0;34m(\u001b[0m\u001b[0;34m)\u001b[0m\u001b[0;34m\u001b[0m\u001b[0;34m\u001b[0m\u001b[0m\n",
      "\u001b[0;32m~/BA2_action_recogntion/BA2/lib/python3.8/site-packages/tensorflow/python/eager/def_function.py\u001b[0m in \u001b[0;36m__call__\u001b[0;34m(self, *args, **kwds)\u001b[0m\n\u001b[1;32m    887\u001b[0m \u001b[0;34m\u001b[0m\u001b[0m\n\u001b[1;32m    888\u001b[0m       \u001b[0;32mwith\u001b[0m \u001b[0mOptionalXlaContext\u001b[0m\u001b[0;34m(\u001b[0m\u001b[0mself\u001b[0m\u001b[0;34m.\u001b[0m\u001b[0m_jit_compile\u001b[0m\u001b[0;34m)\u001b[0m\u001b[0;34m:\u001b[0m\u001b[0;34m\u001b[0m\u001b[0;34m\u001b[0m\u001b[0m\n\u001b[0;32m--> 889\u001b[0;31m         \u001b[0mresult\u001b[0m \u001b[0;34m=\u001b[0m \u001b[0mself\u001b[0m\u001b[0;34m.\u001b[0m\u001b[0m_call\u001b[0m\u001b[0;34m(\u001b[0m\u001b[0;34m*\u001b[0m\u001b[0margs\u001b[0m\u001b[0;34m,\u001b[0m \u001b[0;34m**\u001b[0m\u001b[0mkwds\u001b[0m\u001b[0;34m)\u001b[0m\u001b[0;34m\u001b[0m\u001b[0;34m\u001b[0m\u001b[0m\n\u001b[0m\u001b[1;32m    890\u001b[0m \u001b[0;34m\u001b[0m\u001b[0m\n\u001b[1;32m    891\u001b[0m       \u001b[0mnew_tracing_count\u001b[0m \u001b[0;34m=\u001b[0m \u001b[0mself\u001b[0m\u001b[0;34m.\u001b[0m\u001b[0mexperimental_get_tracing_count\u001b[0m\u001b[0;34m(\u001b[0m\u001b[0;34m)\u001b[0m\u001b[0;34m\u001b[0m\u001b[0;34m\u001b[0m\u001b[0m\n",
      "\u001b[0;32m~/BA2_action_recogntion/BA2/lib/python3.8/site-packages/tensorflow/python/eager/def_function.py\u001b[0m in \u001b[0;36m_call\u001b[0;34m(self, *args, **kwds)\u001b[0m\n\u001b[1;32m    922\u001b[0m       \u001b[0;31m# In this case we have not created variables on the first call. So we can\u001b[0m\u001b[0;34m\u001b[0m\u001b[0;34m\u001b[0m\u001b[0;34m\u001b[0m\u001b[0m\n\u001b[1;32m    923\u001b[0m       \u001b[0;31m# run the first trace but we should fail if variables are created.\u001b[0m\u001b[0;34m\u001b[0m\u001b[0;34m\u001b[0m\u001b[0;34m\u001b[0m\u001b[0m\n\u001b[0;32m--> 924\u001b[0;31m       \u001b[0mresults\u001b[0m \u001b[0;34m=\u001b[0m \u001b[0mself\u001b[0m\u001b[0;34m.\u001b[0m\u001b[0m_stateful_fn\u001b[0m\u001b[0;34m(\u001b[0m\u001b[0;34m*\u001b[0m\u001b[0margs\u001b[0m\u001b[0;34m,\u001b[0m \u001b[0;34m**\u001b[0m\u001b[0mkwds\u001b[0m\u001b[0;34m)\u001b[0m\u001b[0;34m\u001b[0m\u001b[0;34m\u001b[0m\u001b[0m\n\u001b[0m\u001b[1;32m    925\u001b[0m       \u001b[0;32mif\u001b[0m \u001b[0mself\u001b[0m\u001b[0;34m.\u001b[0m\u001b[0m_created_variables\u001b[0m\u001b[0;34m:\u001b[0m\u001b[0;34m\u001b[0m\u001b[0;34m\u001b[0m\u001b[0m\n\u001b[1;32m    926\u001b[0m         raise ValueError(\"Creating variables on a non-first call to a function\"\n",
      "\u001b[0;32m~/BA2_action_recogntion/BA2/lib/python3.8/site-packages/tensorflow/python/eager/function.py\u001b[0m in \u001b[0;36m__call__\u001b[0;34m(self, *args, **kwargs)\u001b[0m\n\u001b[1;32m   3020\u001b[0m     \u001b[0;32mwith\u001b[0m \u001b[0mself\u001b[0m\u001b[0;34m.\u001b[0m\u001b[0m_lock\u001b[0m\u001b[0;34m:\u001b[0m\u001b[0;34m\u001b[0m\u001b[0;34m\u001b[0m\u001b[0m\n\u001b[1;32m   3021\u001b[0m       (graph_function,\n\u001b[0;32m-> 3022\u001b[0;31m        filtered_flat_args) = self._maybe_define_function(args, kwargs)\n\u001b[0m\u001b[1;32m   3023\u001b[0m     return graph_function._call_flat(\n\u001b[1;32m   3024\u001b[0m         filtered_flat_args, captured_inputs=graph_function.captured_inputs)  # pylint: disable=protected-access\n",
      "\u001b[0;32m~/BA2_action_recogntion/BA2/lib/python3.8/site-packages/tensorflow/python/eager/function.py\u001b[0m in \u001b[0;36m_maybe_define_function\u001b[0;34m(self, args, kwargs)\u001b[0m\n\u001b[1;32m   3438\u001b[0m               \u001b[0mself\u001b[0m\u001b[0;34m.\u001b[0m\u001b[0minput_signature\u001b[0m \u001b[0;32mis\u001b[0m \u001b[0;32mNone\u001b[0m \u001b[0;32mand\u001b[0m\u001b[0;34m\u001b[0m\u001b[0;34m\u001b[0m\u001b[0m\n\u001b[1;32m   3439\u001b[0m               call_context_key in self._function_cache.missed):\n\u001b[0;32m-> 3440\u001b[0;31m             return self._define_function_with_shape_relaxation(\n\u001b[0m\u001b[1;32m   3441\u001b[0m                 args, kwargs, flat_args, filtered_flat_args, cache_key_context)\n\u001b[1;32m   3442\u001b[0m \u001b[0;34m\u001b[0m\u001b[0m\n",
      "\u001b[0;32m~/BA2_action_recogntion/BA2/lib/python3.8/site-packages/tensorflow/python/eager/function.py\u001b[0m in \u001b[0;36m_define_function_with_shape_relaxation\u001b[0;34m(self, args, kwargs, flat_args, filtered_flat_args, cache_key_context)\u001b[0m\n\u001b[1;32m   3360\u001b[0m           expand_composites=True)\n\u001b[1;32m   3361\u001b[0m \u001b[0;34m\u001b[0m\u001b[0m\n\u001b[0;32m-> 3362\u001b[0;31m     graph_function = self._create_graph_function(\n\u001b[0m\u001b[1;32m   3363\u001b[0m         args, kwargs, override_flat_arg_shapes=relaxed_arg_shapes)\n\u001b[1;32m   3364\u001b[0m     \u001b[0mself\u001b[0m\u001b[0;34m.\u001b[0m\u001b[0m_function_cache\u001b[0m\u001b[0;34m.\u001b[0m\u001b[0marg_relaxed\u001b[0m\u001b[0;34m[\u001b[0m\u001b[0mrank_only_cache_key\u001b[0m\u001b[0;34m]\u001b[0m \u001b[0;34m=\u001b[0m \u001b[0mgraph_function\u001b[0m\u001b[0;34m\u001b[0m\u001b[0;34m\u001b[0m\u001b[0m\n",
      "\u001b[0;32m~/BA2_action_recogntion/BA2/lib/python3.8/site-packages/tensorflow/python/eager/function.py\u001b[0m in \u001b[0;36m_create_graph_function\u001b[0;34m(self, args, kwargs, override_flat_arg_shapes)\u001b[0m\n\u001b[1;32m   3277\u001b[0m     \u001b[0marg_names\u001b[0m \u001b[0;34m=\u001b[0m \u001b[0mbase_arg_names\u001b[0m \u001b[0;34m+\u001b[0m \u001b[0mmissing_arg_names\u001b[0m\u001b[0;34m\u001b[0m\u001b[0;34m\u001b[0m\u001b[0m\n\u001b[1;32m   3278\u001b[0m     graph_function = ConcreteFunction(\n\u001b[0;32m-> 3279\u001b[0;31m         func_graph_module.func_graph_from_py_func(\n\u001b[0m\u001b[1;32m   3280\u001b[0m             \u001b[0mself\u001b[0m\u001b[0;34m.\u001b[0m\u001b[0m_name\u001b[0m\u001b[0;34m,\u001b[0m\u001b[0;34m\u001b[0m\u001b[0;34m\u001b[0m\u001b[0m\n\u001b[1;32m   3281\u001b[0m             \u001b[0mself\u001b[0m\u001b[0;34m.\u001b[0m\u001b[0m_python_function\u001b[0m\u001b[0;34m,\u001b[0m\u001b[0;34m\u001b[0m\u001b[0;34m\u001b[0m\u001b[0m\n",
      "\u001b[0;32m~/BA2_action_recogntion/BA2/lib/python3.8/site-packages/tensorflow/python/framework/func_graph.py\u001b[0m in \u001b[0;36mfunc_graph_from_py_func\u001b[0;34m(name, python_func, args, kwargs, signature, func_graph, autograph, autograph_options, add_control_dependencies, arg_names, op_return_value, collections, capture_by_value, override_flat_arg_shapes)\u001b[0m\n\u001b[1;32m    997\u001b[0m         \u001b[0m_\u001b[0m\u001b[0;34m,\u001b[0m \u001b[0moriginal_func\u001b[0m \u001b[0;34m=\u001b[0m \u001b[0mtf_decorator\u001b[0m\u001b[0;34m.\u001b[0m\u001b[0munwrap\u001b[0m\u001b[0;34m(\u001b[0m\u001b[0mpython_func\u001b[0m\u001b[0;34m)\u001b[0m\u001b[0;34m\u001b[0m\u001b[0;34m\u001b[0m\u001b[0m\n\u001b[1;32m    998\u001b[0m \u001b[0;34m\u001b[0m\u001b[0m\n\u001b[0;32m--> 999\u001b[0;31m       \u001b[0mfunc_outputs\u001b[0m \u001b[0;34m=\u001b[0m \u001b[0mpython_func\u001b[0m\u001b[0;34m(\u001b[0m\u001b[0;34m*\u001b[0m\u001b[0mfunc_args\u001b[0m\u001b[0;34m,\u001b[0m \u001b[0;34m**\u001b[0m\u001b[0mfunc_kwargs\u001b[0m\u001b[0;34m)\u001b[0m\u001b[0;34m\u001b[0m\u001b[0;34m\u001b[0m\u001b[0m\n\u001b[0m\u001b[1;32m   1000\u001b[0m \u001b[0;34m\u001b[0m\u001b[0m\n\u001b[1;32m   1001\u001b[0m       \u001b[0;31m# invariant: `func_outputs` contains only Tensors, CompositeTensors,\u001b[0m\u001b[0;34m\u001b[0m\u001b[0;34m\u001b[0m\u001b[0;34m\u001b[0m\u001b[0m\n",
      "\u001b[0;32m~/BA2_action_recogntion/BA2/lib/python3.8/site-packages/tensorflow/python/eager/def_function.py\u001b[0m in \u001b[0;36mwrapped_fn\u001b[0;34m(*args, **kwds)\u001b[0m\n\u001b[1;32m    670\u001b[0m         \u001b[0;31m# the function a weak reference to itself to avoid a reference cycle.\u001b[0m\u001b[0;34m\u001b[0m\u001b[0;34m\u001b[0m\u001b[0;34m\u001b[0m\u001b[0m\n\u001b[1;32m    671\u001b[0m         \u001b[0;32mwith\u001b[0m \u001b[0mOptionalXlaContext\u001b[0m\u001b[0;34m(\u001b[0m\u001b[0mcompile_with_xla\u001b[0m\u001b[0;34m)\u001b[0m\u001b[0;34m:\u001b[0m\u001b[0;34m\u001b[0m\u001b[0;34m\u001b[0m\u001b[0m\n\u001b[0;32m--> 672\u001b[0;31m           \u001b[0mout\u001b[0m \u001b[0;34m=\u001b[0m \u001b[0mweak_wrapped_fn\u001b[0m\u001b[0;34m(\u001b[0m\u001b[0;34m)\u001b[0m\u001b[0;34m.\u001b[0m\u001b[0m__wrapped__\u001b[0m\u001b[0;34m(\u001b[0m\u001b[0;34m*\u001b[0m\u001b[0margs\u001b[0m\u001b[0;34m,\u001b[0m \u001b[0;34m**\u001b[0m\u001b[0mkwds\u001b[0m\u001b[0;34m)\u001b[0m\u001b[0;34m\u001b[0m\u001b[0;34m\u001b[0m\u001b[0m\n\u001b[0m\u001b[1;32m    673\u001b[0m         \u001b[0;32mreturn\u001b[0m \u001b[0mout\u001b[0m\u001b[0;34m\u001b[0m\u001b[0;34m\u001b[0m\u001b[0m\n\u001b[1;32m    674\u001b[0m \u001b[0;34m\u001b[0m\u001b[0m\n",
      "\u001b[0;32m~/BA2_action_recogntion/BA2/lib/python3.8/site-packages/tensorflow/python/framework/func_graph.py\u001b[0m in \u001b[0;36mwrapper\u001b[0;34m(*args, **kwargs)\u001b[0m\n\u001b[1;32m    984\u001b[0m           \u001b[0;32mexcept\u001b[0m \u001b[0mException\u001b[0m \u001b[0;32mas\u001b[0m \u001b[0me\u001b[0m\u001b[0;34m:\u001b[0m  \u001b[0;31m# pylint:disable=broad-except\u001b[0m\u001b[0;34m\u001b[0m\u001b[0;34m\u001b[0m\u001b[0m\n\u001b[1;32m    985\u001b[0m             \u001b[0;32mif\u001b[0m \u001b[0mhasattr\u001b[0m\u001b[0;34m(\u001b[0m\u001b[0me\u001b[0m\u001b[0;34m,\u001b[0m \u001b[0;34m\"ag_error_metadata\"\u001b[0m\u001b[0;34m)\u001b[0m\u001b[0;34m:\u001b[0m\u001b[0;34m\u001b[0m\u001b[0;34m\u001b[0m\u001b[0m\n\u001b[0;32m--> 986\u001b[0;31m               \u001b[0;32mraise\u001b[0m \u001b[0me\u001b[0m\u001b[0;34m.\u001b[0m\u001b[0mag_error_metadata\u001b[0m\u001b[0;34m.\u001b[0m\u001b[0mto_exception\u001b[0m\u001b[0;34m(\u001b[0m\u001b[0me\u001b[0m\u001b[0;34m)\u001b[0m\u001b[0;34m\u001b[0m\u001b[0;34m\u001b[0m\u001b[0m\n\u001b[0m\u001b[1;32m    987\u001b[0m             \u001b[0;32melse\u001b[0m\u001b[0;34m:\u001b[0m\u001b[0;34m\u001b[0m\u001b[0;34m\u001b[0m\u001b[0m\n\u001b[1;32m    988\u001b[0m               \u001b[0;32mraise\u001b[0m\u001b[0;34m\u001b[0m\u001b[0;34m\u001b[0m\u001b[0m\n",
      "\u001b[0;31mValueError\u001b[0m: in user code:\n\n    /home/alehof/BA2_action_recogntion/BA2/lib/python3.8/site-packages/keras/engine/training.py:1544 predict_function  *\n        return step_function(self, iterator)\n    /home/alehof/BA2_action_recogntion/BA2/lib/python3.8/site-packages/keras/engine/training.py:1527 run_step  *\n        outputs = model.predict_step(data)\n    /home/alehof/BA2_action_recogntion/BA2/lib/python3.8/site-packages/keras/engine/training.py:1500 predict_step  *\n        return self(x, training=False)\n    /home/alehof/BA2_action_recogntion/BA2/lib/python3.8/site-packages/keras/engine/base_layer.py:989 __call__  *\n        input_spec.assert_input_compatibility(self.input_spec, inputs, self.name)\n    /home/alehof/BA2_action_recogntion/BA2/lib/python3.8/site-packages/keras/engine/input_spec.py:264 assert_input_compatibility  *\n        raise ValueError('Input ' + str(input_index) +\n\n    ValueError: Input 0 is incompatible with layer model_1: expected shape=(None, 20, 63, 63, 1), found shape=(None, 10, None, None, 1)\n"
     ]
    }
   ],
   "source": [
    "prediction_model_1=real_time_prediction(path,\"test_rl_1\")\n",
    "\n",
    "predu_1=[]\n",
    "for i in prediction_model_1:\n",
    "    predu_1.append(list(i[0])[0])\n",
    "#predu_2=[]\n",
    "#for i in prediction_model_2:\n",
    "#    predu_2.append(list(i[0])[0])\n",
    "times=[[0,5],[6,10],[11,15],[16,20],[21,25],[26,30],[31,35],[36,40],[41,45],[46,50]]\n",
    "time_axis=[]\n",
    "for i in times:\n",
    "    time_axis.append(str(i[0])+\"_\"+str(i[1]))\n",
    "    \n",
    "# main_preds=np.average(np.array([predu_1,predu_2]),axis=0)\n",
    "main_preds=np.array(predu_1)\n",
    "print(main_preds)\n",
    "\n",
    "    \n",
    "plt.figure()\n",
    "plt.plot(time_axis,main_preds,\"-o\")\n",
    "plt.xlabel(\"Time slots of video in Seconds\")\n",
    "plt.xticks(rotation=60)\n",
    "plt.ylabel(\"Predictions\")\n",
    "plt.title(\"Model_Predictions\")\n",
    "plt.show()"
   ]
  },
  {
   "cell_type": "code",
   "execution_count": null,
   "id": "9fe160d8",
   "metadata": {},
   "outputs": [],
   "source": []
  }
 ],
 "metadata": {
  "kernelspec": {
   "display_name": "Python 3",
   "language": "python",
   "name": "python3"
  },
  "language_info": {
   "codemirror_mode": {
    "name": "ipython",
    "version": 3
   },
   "file_extension": ".py",
   "mimetype": "text/x-python",
   "name": "python",
   "nbconvert_exporter": "python",
   "pygments_lexer": "ipython3",
   "version": "3.8.10"
  }
 },
 "nbformat": 4,
 "nbformat_minor": 5
}
